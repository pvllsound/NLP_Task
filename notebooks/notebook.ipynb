{
 "cells": [
  {
   "cell_type": "code",
   "execution_count": 12,
   "metadata": {},
   "outputs": [],
   "source": [
    "import pandas as pd\n",
    "import numpy as np\n",
    "import matplotlib.pyplot as plt\n",
    "import seaborn as sns\n",
    "import spacy \n",
    "import nltk\n",
    "from spacy import displacy"
   ]
  },
  {
   "cell_type": "code",
   "execution_count": 2,
   "metadata": {},
   "outputs": [
    {
     "name": "stdout",
     "output_type": "stream",
     "text": [
      "<class 'pandas.core.frame.DataFrame'>\n",
      "RangeIndex: 20761 entries, 0 to 20760\n",
      "Data columns (total 8 columns):\n",
      " #   Column                   Non-Null Count  Dtype  \n",
      "---  ------                   --------------  -----  \n",
      " 0   source                   20761 non-null  object \n",
      " 1   id_str                   20761 non-null  int64  \n",
      " 2   text                     20761 non-null  object \n",
      " 3   created_at               20761 non-null  object \n",
      " 4   retweet_count            20761 non-null  int64  \n",
      " 5   in_reply_to_user_id_str  2442 non-null   float64\n",
      " 6   favorite_count           20761 non-null  int64  \n",
      " 7   is_retweet               20761 non-null  bool   \n",
      "dtypes: bool(1), float64(1), int64(3), object(3)\n",
      "memory usage: 1.1+ MB\n"
     ]
    }
   ],
   "source": [
    "df_raw = pd.read_csv('../trump_tweets.csv')\n",
    "\n",
    "df_raw.info()"
   ]
  },
  {
   "cell_type": "code",
   "execution_count": 3,
   "metadata": {},
   "outputs": [
    {
     "data": {
      "text/html": [
       "<div>\n",
       "<style scoped>\n",
       "    .dataframe tbody tr th:only-of-type {\n",
       "        vertical-align: middle;\n",
       "    }\n",
       "\n",
       "    .dataframe tbody tr th {\n",
       "        vertical-align: top;\n",
       "    }\n",
       "\n",
       "    .dataframe thead th {\n",
       "        text-align: right;\n",
       "    }\n",
       "</style>\n",
       "<table border=\"1\" class=\"dataframe\">\n",
       "  <thead>\n",
       "    <tr style=\"text-align: right;\">\n",
       "      <th></th>\n",
       "      <th>source</th>\n",
       "      <th>id_str</th>\n",
       "      <th>text</th>\n",
       "      <th>created_at</th>\n",
       "      <th>retweet_count</th>\n",
       "      <th>in_reply_to_user_id_str</th>\n",
       "      <th>favorite_count</th>\n",
       "      <th>is_retweet</th>\n",
       "    </tr>\n",
       "  </thead>\n",
       "  <tbody>\n",
       "    <tr>\n",
       "      <th>19436</th>\n",
       "      <td>Twitter for iPhone</td>\n",
       "      <td>901531320052051971</td>\n",
       "      <td>THANK YOU to all of the great volunteers helpi...</td>\n",
       "      <td>2017-08-26T19:46:30Z</td>\n",
       "      <td>17056</td>\n",
       "      <td>NaN</td>\n",
       "      <td>74246</td>\n",
       "      <td>False</td>\n",
       "    </tr>\n",
       "    <tr>\n",
       "      <th>11041</th>\n",
       "      <td>Twitter Web Client</td>\n",
       "      <td>484029282642300928</td>\n",
       "      <td>Make your NYC getaway memorable -- @TrumpNewYo...</td>\n",
       "      <td>2014-07-01T17:42:28Z</td>\n",
       "      <td>14</td>\n",
       "      <td>NaN</td>\n",
       "      <td>30</td>\n",
       "      <td>False</td>\n",
       "    </tr>\n",
       "    <tr>\n",
       "      <th>12543</th>\n",
       "      <td>Twitter for Android</td>\n",
       "      <td>668075477547003904</td>\n",
       "      <td>Heading to Birmingham, Alabama, and a massive ...</td>\n",
       "      <td>2015-11-21T14:36:20Z</td>\n",
       "      <td>1183</td>\n",
       "      <td>NaN</td>\n",
       "      <td>3778</td>\n",
       "      <td>False</td>\n",
       "    </tr>\n",
       "    <tr>\n",
       "      <th>10073</th>\n",
       "      <td>Twitter Web Client</td>\n",
       "      <td>531922043705753602</td>\n",
       "      <td>A single Ebola carrier infects 2 others at a m...</td>\n",
       "      <td>2014-11-10T21:31:12Z</td>\n",
       "      <td>256</td>\n",
       "      <td>NaN</td>\n",
       "      <td>386</td>\n",
       "      <td>False</td>\n",
       "    </tr>\n",
       "    <tr>\n",
       "      <th>3062</th>\n",
       "      <td>Twitter Web Client</td>\n",
       "      <td>225582661236817922</td>\n",
       "      <td>According to a @gallupnews poll, over 60% thin...</td>\n",
       "      <td>2012-07-18T13:27:52Z</td>\n",
       "      <td>126</td>\n",
       "      <td>NaN</td>\n",
       "      <td>10</td>\n",
       "      <td>False</td>\n",
       "    </tr>\n",
       "    <tr>\n",
       "      <th>16736</th>\n",
       "      <td>Twitter for Android</td>\n",
       "      <td>747191624535511040</td>\n",
       "      <td>Crooked Hillary Clinton got Brexit wrong. I sa...</td>\n",
       "      <td>2016-06-26T22:15:40Z</td>\n",
       "      <td>5482</td>\n",
       "      <td>NaN</td>\n",
       "      <td>17418</td>\n",
       "      <td>False</td>\n",
       "    </tr>\n",
       "    <tr>\n",
       "      <th>9165</th>\n",
       "      <td>Twitter Web Client</td>\n",
       "      <td>294921145973628929</td>\n",
       "      <td>@DanSchreibs  Dope!</td>\n",
       "      <td>2013-01-25T21:34:15Z</td>\n",
       "      <td>58</td>\n",
       "      <td>159190987.0</td>\n",
       "      <td>51</td>\n",
       "      <td>False</td>\n",
       "    </tr>\n",
       "    <tr>\n",
       "      <th>3727</th>\n",
       "      <td>Twitter Web Client</td>\n",
       "      <td>183198858728316928</td>\n",
       "      <td>I'll be on @Foxandfriends Monday at 7:30 AM.</td>\n",
       "      <td>2012-03-23T14:29:46Z</td>\n",
       "      <td>19</td>\n",
       "      <td>NaN</td>\n",
       "      <td>7</td>\n",
       "      <td>False</td>\n",
       "    </tr>\n",
       "    <tr>\n",
       "      <th>502</th>\n",
       "      <td>TweetDeck</td>\n",
       "      <td>127080660216188928</td>\n",
       "      <td>Bob Beckel, a commentator for FOX is bad for t...</td>\n",
       "      <td>2011-10-20T17:56:05Z</td>\n",
       "      <td>90</td>\n",
       "      <td>NaN</td>\n",
       "      <td>4</td>\n",
       "      <td>False</td>\n",
       "    </tr>\n",
       "    <tr>\n",
       "      <th>9327</th>\n",
       "      <td>Twitter Web Client</td>\n",
       "      <td>293732148337332224</td>\n",
       "      <td>Obama’s speech indicates he wants to change th...</td>\n",
       "      <td>2013-01-22T14:49:36Z</td>\n",
       "      <td>169</td>\n",
       "      <td>NaN</td>\n",
       "      <td>67</td>\n",
       "      <td>False</td>\n",
       "    </tr>\n",
       "  </tbody>\n",
       "</table>\n",
       "</div>"
      ],
      "text/plain": [
       "                    source              id_str  \\\n",
       "19436   Twitter for iPhone  901531320052051971   \n",
       "11041   Twitter Web Client  484029282642300928   \n",
       "12543  Twitter for Android  668075477547003904   \n",
       "10073   Twitter Web Client  531922043705753602   \n",
       "3062    Twitter Web Client  225582661236817922   \n",
       "16736  Twitter for Android  747191624535511040   \n",
       "9165    Twitter Web Client  294921145973628929   \n",
       "3727    Twitter Web Client  183198858728316928   \n",
       "502              TweetDeck  127080660216188928   \n",
       "9327    Twitter Web Client  293732148337332224   \n",
       "\n",
       "                                                    text  \\\n",
       "19436  THANK YOU to all of the great volunteers helpi...   \n",
       "11041  Make your NYC getaway memorable -- @TrumpNewYo...   \n",
       "12543  Heading to Birmingham, Alabama, and a massive ...   \n",
       "10073  A single Ebola carrier infects 2 others at a m...   \n",
       "3062   According to a @gallupnews poll, over 60% thin...   \n",
       "16736  Crooked Hillary Clinton got Brexit wrong. I sa...   \n",
       "9165                                 @DanSchreibs  Dope!   \n",
       "3727        I'll be on @Foxandfriends Monday at 7:30 AM.   \n",
       "502    Bob Beckel, a commentator for FOX is bad for t...   \n",
       "9327   Obama’s speech indicates he wants to change th...   \n",
       "\n",
       "                 created_at  retweet_count  in_reply_to_user_id_str  \\\n",
       "19436  2017-08-26T19:46:30Z          17056                      NaN   \n",
       "11041  2014-07-01T17:42:28Z             14                      NaN   \n",
       "12543  2015-11-21T14:36:20Z           1183                      NaN   \n",
       "10073  2014-11-10T21:31:12Z            256                      NaN   \n",
       "3062   2012-07-18T13:27:52Z            126                      NaN   \n",
       "16736  2016-06-26T22:15:40Z           5482                      NaN   \n",
       "9165   2013-01-25T21:34:15Z             58              159190987.0   \n",
       "3727   2012-03-23T14:29:46Z             19                      NaN   \n",
       "502    2011-10-20T17:56:05Z             90                      NaN   \n",
       "9327   2013-01-22T14:49:36Z            169                      NaN   \n",
       "\n",
       "       favorite_count  is_retweet  \n",
       "19436           74246       False  \n",
       "11041              30       False  \n",
       "12543            3778       False  \n",
       "10073             386       False  \n",
       "3062               10       False  \n",
       "16736           17418       False  \n",
       "9165               51       False  \n",
       "3727                7       False  \n",
       "502                 4       False  \n",
       "9327               67       False  "
      ]
     },
     "execution_count": 3,
     "metadata": {},
     "output_type": "execute_result"
    }
   ],
   "source": [
    "df_raw.sample(10)"
   ]
  },
  {
   "cell_type": "code",
   "execution_count": 4,
   "metadata": {},
   "outputs": [
    {
     "name": "stderr",
     "output_type": "stream",
     "text": [
      "/workspaces/NLP_Task/.venv/lib/python3.10/site-packages/tqdm/auto.py:21: TqdmWarning: IProgress not found. Please update jupyter and ipywidgets. See https://ipywidgets.readthedocs.io/en/stable/user_install.html\n",
      "  from .autonotebook import tqdm as notebook_tqdm\n"
     ]
    }
   ],
   "source": [
    "nlp = spacy.load('en_core_web_trf')"
   ]
  },
  {
   "cell_type": "code",
   "execution_count": 6,
   "metadata": {},
   "outputs": [
    {
     "name": "stdout",
     "output_type": "stream",
     "text": [
      "Number of tokens: 5\n"
     ]
    }
   ],
   "source": [
    "# Tokenization \n",
    "\n",
    "sentence = nlp.tokenizer('I live in Hell.')\n",
    "\n",
    "print(f\"Number of tokens: {len(sentence)}\")"
   ]
  },
  {
   "cell_type": "code",
   "execution_count": 7,
   "metadata": {},
   "outputs": [
    {
     "name": "stdout",
     "output_type": "stream",
     "text": [
      "I\n",
      "live\n",
      "in\n",
      "Hell\n",
      ".\n"
     ]
    }
   ],
   "source": [
    "for word in sentence:\n",
    "    print(word)"
   ]
  },
  {
   "cell_type": "code",
   "execution_count": 10,
   "metadata": {},
   "outputs": [
    {
     "name": "stdout",
     "output_type": "stream",
     "text": [
      "The DET\n",
      "most ADV\n",
      "populated ADJ\n",
      "city NOUN\n",
      "in ADP\n",
      "Hell PROPN\n",
      "is AUX\n",
      "Bogotá PROPN\n",
      ". PUNCT\n"
     ]
    }
   ],
   "source": [
    "# POS (Part-of-speech) tagging\n",
    "\n",
    "sentence_2 = nlp('The most populated city in Hell is Bogotá.')\n",
    "\n",
    "for token in sentence_2:\n",
    "    print(token.text, token.pos_)"
   ]
  },
  {
   "cell_type": "code",
   "execution_count": null,
   "metadata": {},
   "outputs": [],
   "source": [
    "# DET: Determiner\n",
    "# ADV: Adverb\n",
    "# ADJ: Adjective\n",
    "# NOUN\n",
    "# ADP: Adverb preposition\n",
    "# PROPN: Proper Noun\n",
    "# AUX: Auxiliar (to be, to have, will, should)\n",
    "# PUNCT: Punctuation"
   ]
  },
  {
   "cell_type": "code",
   "execution_count": 11,
   "metadata": {},
   "outputs": [
    {
     "name": "stdout",
     "output_type": "stream",
     "text": [
      "The det\n",
      "most advmod\n",
      "populated amod\n",
      "city nsubj\n",
      "in prep\n",
      "Hell pobj\n",
      "is ROOT\n",
      "Bogotá attr\n",
      ". punct\n"
     ]
    }
   ],
   "source": [
    "# DEP (Depence parsing)\n",
    "for token in sentence_2:\n",
    "    print(token.text, token.dep_)"
   ]
  },
  {
   "cell_type": "code",
   "execution_count": null,
   "metadata": {},
   "outputs": [],
   "source": [
    "# det: determiner\n",
    "# advmod: Adverbial modifier\n",
    "# amod: Adjective modifier\n",
    "# nsubj: Nominal subject\n",
    "# prep: Preposition\n",
    "# pobj: Proper Object\n",
    "# ROOT\n",
    "# attr: Attribute\n",
    "# punct: Punctuation"
   ]
  },
  {
   "cell_type": "code",
   "execution_count": 13,
   "metadata": {},
   "outputs": [
    {
     "data": {
      "text/html": [
       "<span class=\"tex2jax_ignore\"><svg xmlns=\"http://www.w3.org/2000/svg\" xmlns:xlink=\"http://www.w3.org/1999/xlink\" xml:lang=\"en\" id=\"f76d8539b72649e3835c4f6bd973761b-0\" class=\"displacy\" width=\"1450\" height=\"312.0\" direction=\"ltr\" style=\"max-width: none; height: 312.0px; color: #000000; background: #ffffff; font-family: Arial; direction: ltr\">\n",
       "<text class=\"displacy-token\" fill=\"currentColor\" text-anchor=\"middle\" y=\"222.0\">\n",
       "    <tspan class=\"displacy-word\" fill=\"currentColor\" x=\"50\">The</tspan>\n",
       "    <tspan class=\"displacy-tag\" dy=\"2em\" fill=\"currentColor\" x=\"50\">DET</tspan>\n",
       "</text>\n",
       "\n",
       "<text class=\"displacy-token\" fill=\"currentColor\" text-anchor=\"middle\" y=\"222.0\">\n",
       "    <tspan class=\"displacy-word\" fill=\"currentColor\" x=\"225\">most</tspan>\n",
       "    <tspan class=\"displacy-tag\" dy=\"2em\" fill=\"currentColor\" x=\"225\">ADV</tspan>\n",
       "</text>\n",
       "\n",
       "<text class=\"displacy-token\" fill=\"currentColor\" text-anchor=\"middle\" y=\"222.0\">\n",
       "    <tspan class=\"displacy-word\" fill=\"currentColor\" x=\"400\">populated</tspan>\n",
       "    <tspan class=\"displacy-tag\" dy=\"2em\" fill=\"currentColor\" x=\"400\">ADJ</tspan>\n",
       "</text>\n",
       "\n",
       "<text class=\"displacy-token\" fill=\"currentColor\" text-anchor=\"middle\" y=\"222.0\">\n",
       "    <tspan class=\"displacy-word\" fill=\"currentColor\" x=\"575\">city</tspan>\n",
       "    <tspan class=\"displacy-tag\" dy=\"2em\" fill=\"currentColor\" x=\"575\">NOUN</tspan>\n",
       "</text>\n",
       "\n",
       "<text class=\"displacy-token\" fill=\"currentColor\" text-anchor=\"middle\" y=\"222.0\">\n",
       "    <tspan class=\"displacy-word\" fill=\"currentColor\" x=\"750\">in</tspan>\n",
       "    <tspan class=\"displacy-tag\" dy=\"2em\" fill=\"currentColor\" x=\"750\">ADP</tspan>\n",
       "</text>\n",
       "\n",
       "<text class=\"displacy-token\" fill=\"currentColor\" text-anchor=\"middle\" y=\"222.0\">\n",
       "    <tspan class=\"displacy-word\" fill=\"currentColor\" x=\"925\">Hell</tspan>\n",
       "    <tspan class=\"displacy-tag\" dy=\"2em\" fill=\"currentColor\" x=\"925\">PROPN</tspan>\n",
       "</text>\n",
       "\n",
       "<text class=\"displacy-token\" fill=\"currentColor\" text-anchor=\"middle\" y=\"222.0\">\n",
       "    <tspan class=\"displacy-word\" fill=\"currentColor\" x=\"1100\">is</tspan>\n",
       "    <tspan class=\"displacy-tag\" dy=\"2em\" fill=\"currentColor\" x=\"1100\">AUX</tspan>\n",
       "</text>\n",
       "\n",
       "<text class=\"displacy-token\" fill=\"currentColor\" text-anchor=\"middle\" y=\"222.0\">\n",
       "    <tspan class=\"displacy-word\" fill=\"currentColor\" x=\"1275\">Bogotá.</tspan>\n",
       "    <tspan class=\"displacy-tag\" dy=\"2em\" fill=\"currentColor\" x=\"1275\">PROPN</tspan>\n",
       "</text>\n",
       "\n",
       "<g class=\"displacy-arrow\">\n",
       "    <path class=\"displacy-arc\" id=\"arrow-f76d8539b72649e3835c4f6bd973761b-0-0\" stroke-width=\"2px\" d=\"M70,177.0 C70,2.0 575.0,2.0 575.0,177.0\" fill=\"none\" stroke=\"currentColor\"/>\n",
       "    <text dy=\"1.25em\" style=\"font-size: 0.8em; letter-spacing: 1px\">\n",
       "        <textPath xlink:href=\"#arrow-f76d8539b72649e3835c4f6bd973761b-0-0\" class=\"displacy-label\" startOffset=\"50%\" side=\"left\" fill=\"currentColor\" text-anchor=\"middle\">det</textPath>\n",
       "    </text>\n",
       "    <path class=\"displacy-arrowhead\" d=\"M70,179.0 L62,167.0 78,167.0\" fill=\"currentColor\"/>\n",
       "</g>\n",
       "\n",
       "<g class=\"displacy-arrow\">\n",
       "    <path class=\"displacy-arc\" id=\"arrow-f76d8539b72649e3835c4f6bd973761b-0-1\" stroke-width=\"2px\" d=\"M245,177.0 C245,89.5 395.0,89.5 395.0,177.0\" fill=\"none\" stroke=\"currentColor\"/>\n",
       "    <text dy=\"1.25em\" style=\"font-size: 0.8em; letter-spacing: 1px\">\n",
       "        <textPath xlink:href=\"#arrow-f76d8539b72649e3835c4f6bd973761b-0-1\" class=\"displacy-label\" startOffset=\"50%\" side=\"left\" fill=\"currentColor\" text-anchor=\"middle\">advmod</textPath>\n",
       "    </text>\n",
       "    <path class=\"displacy-arrowhead\" d=\"M245,179.0 L237,167.0 253,167.0\" fill=\"currentColor\"/>\n",
       "</g>\n",
       "\n",
       "<g class=\"displacy-arrow\">\n",
       "    <path class=\"displacy-arc\" id=\"arrow-f76d8539b72649e3835c4f6bd973761b-0-2\" stroke-width=\"2px\" d=\"M420,177.0 C420,89.5 570.0,89.5 570.0,177.0\" fill=\"none\" stroke=\"currentColor\"/>\n",
       "    <text dy=\"1.25em\" style=\"font-size: 0.8em; letter-spacing: 1px\">\n",
       "        <textPath xlink:href=\"#arrow-f76d8539b72649e3835c4f6bd973761b-0-2\" class=\"displacy-label\" startOffset=\"50%\" side=\"left\" fill=\"currentColor\" text-anchor=\"middle\">amod</textPath>\n",
       "    </text>\n",
       "    <path class=\"displacy-arrowhead\" d=\"M420,179.0 L412,167.0 428,167.0\" fill=\"currentColor\"/>\n",
       "</g>\n",
       "\n",
       "<g class=\"displacy-arrow\">\n",
       "    <path class=\"displacy-arc\" id=\"arrow-f76d8539b72649e3835c4f6bd973761b-0-3\" stroke-width=\"2px\" d=\"M595,177.0 C595,2.0 1100.0,2.0 1100.0,177.0\" fill=\"none\" stroke=\"currentColor\"/>\n",
       "    <text dy=\"1.25em\" style=\"font-size: 0.8em; letter-spacing: 1px\">\n",
       "        <textPath xlink:href=\"#arrow-f76d8539b72649e3835c4f6bd973761b-0-3\" class=\"displacy-label\" startOffset=\"50%\" side=\"left\" fill=\"currentColor\" text-anchor=\"middle\">nsubj</textPath>\n",
       "    </text>\n",
       "    <path class=\"displacy-arrowhead\" d=\"M595,179.0 L587,167.0 603,167.0\" fill=\"currentColor\"/>\n",
       "</g>\n",
       "\n",
       "<g class=\"displacy-arrow\">\n",
       "    <path class=\"displacy-arc\" id=\"arrow-f76d8539b72649e3835c4f6bd973761b-0-4\" stroke-width=\"2px\" d=\"M595,177.0 C595,89.5 745.0,89.5 745.0,177.0\" fill=\"none\" stroke=\"currentColor\"/>\n",
       "    <text dy=\"1.25em\" style=\"font-size: 0.8em; letter-spacing: 1px\">\n",
       "        <textPath xlink:href=\"#arrow-f76d8539b72649e3835c4f6bd973761b-0-4\" class=\"displacy-label\" startOffset=\"50%\" side=\"left\" fill=\"currentColor\" text-anchor=\"middle\">prep</textPath>\n",
       "    </text>\n",
       "    <path class=\"displacy-arrowhead\" d=\"M745.0,179.0 L753.0,167.0 737.0,167.0\" fill=\"currentColor\"/>\n",
       "</g>\n",
       "\n",
       "<g class=\"displacy-arrow\">\n",
       "    <path class=\"displacy-arc\" id=\"arrow-f76d8539b72649e3835c4f6bd973761b-0-5\" stroke-width=\"2px\" d=\"M770,177.0 C770,89.5 920.0,89.5 920.0,177.0\" fill=\"none\" stroke=\"currentColor\"/>\n",
       "    <text dy=\"1.25em\" style=\"font-size: 0.8em; letter-spacing: 1px\">\n",
       "        <textPath xlink:href=\"#arrow-f76d8539b72649e3835c4f6bd973761b-0-5\" class=\"displacy-label\" startOffset=\"50%\" side=\"left\" fill=\"currentColor\" text-anchor=\"middle\">pobj</textPath>\n",
       "    </text>\n",
       "    <path class=\"displacy-arrowhead\" d=\"M920.0,179.0 L928.0,167.0 912.0,167.0\" fill=\"currentColor\"/>\n",
       "</g>\n",
       "\n",
       "<g class=\"displacy-arrow\">\n",
       "    <path class=\"displacy-arc\" id=\"arrow-f76d8539b72649e3835c4f6bd973761b-0-6\" stroke-width=\"2px\" d=\"M1120,177.0 C1120,89.5 1270.0,89.5 1270.0,177.0\" fill=\"none\" stroke=\"currentColor\"/>\n",
       "    <text dy=\"1.25em\" style=\"font-size: 0.8em; letter-spacing: 1px\">\n",
       "        <textPath xlink:href=\"#arrow-f76d8539b72649e3835c4f6bd973761b-0-6\" class=\"displacy-label\" startOffset=\"50%\" side=\"left\" fill=\"currentColor\" text-anchor=\"middle\">attr</textPath>\n",
       "    </text>\n",
       "    <path class=\"displacy-arrowhead\" d=\"M1270.0,179.0 L1278.0,167.0 1262.0,167.0\" fill=\"currentColor\"/>\n",
       "</g>\n",
       "</svg></span>"
      ],
      "text/plain": [
       "<IPython.core.display.HTML object>"
      ]
     },
     "metadata": {},
     "output_type": "display_data"
    }
   ],
   "source": [
    "displacy.render(sentence_2)"
   ]
  },
  {
   "cell_type": "code",
   "execution_count": 15,
   "metadata": {},
   "outputs": [],
   "source": [
    "df_processed = df_raw.copy()\n",
    "\n",
    "df_processed = df_processed.drop(['id_str', 'is_retweet', 'in_reply_to_user_id_str'], axis=1)"
   ]
  },
  {
   "cell_type": "code",
   "execution_count": 32,
   "metadata": {},
   "outputs": [],
   "source": [
    "df_processed = df_raw.copy()\n",
    "df_processed = df_processed.drop(['id_str','is_retweet','in_reply_to_user_id_str'],axis=1)\n",
    "df_processed['created_at'] = pd.to_datetime(df_processed.created_at)\n",
    "df_processed.source = pd.Categorical(df_processed.source)\n",
    "df_processed = df_processed.loc[(df_processed.created_at >= '2015-06-17') & (df_processed.created_at <= '2016-11-08')]\n",
    "df_processed.created_at += pd.Timedelta(-5,unit='h')\n",
    "df_processed = df_processed.loc[(df_processed.source.str.contains('iPhone')) | (df_processed.source.str.contains('Android'))]\n",
    "df_processed.source = df_processed.source.cat.remove_unused_categories()\n",
    "df_processed.to_csv('../trump_tweets_processed.csv')"
   ]
  },
  {
   "cell_type": "code",
   "execution_count": 33,
   "metadata": {},
   "outputs": [],
   "source": [
    "df = df_processed.copy()"
   ]
  },
  {
   "cell_type": "code",
   "execution_count": 34,
   "metadata": {},
   "outputs": [
    {
     "name": "stdout",
     "output_type": "stream",
     "text": [
      "<class 'pandas.core.frame.DataFrame'>\n",
      "Index: 3946 entries, 12072 to 18506\n",
      "Data columns (total 5 columns):\n",
      " #   Column          Non-Null Count  Dtype              \n",
      "---  ------          --------------  -----              \n",
      " 0   source          3946 non-null   category           \n",
      " 1   text            3946 non-null   object             \n",
      " 2   created_at      3946 non-null   datetime64[ns, UTC]\n",
      " 3   retweet_count   3946 non-null   int64              \n",
      " 4   favorite_count  3946 non-null   int64              \n",
      "dtypes: category(1), datetime64[ns, UTC](1), int64(2), object(1)\n",
      "memory usage: 158.0+ KB\n"
     ]
    }
   ],
   "source": [
    "df.info()"
   ]
  },
  {
   "cell_type": "code",
   "execution_count": 35,
   "metadata": {},
   "outputs": [
    {
     "data": {
      "text/html": [
       "<div>\n",
       "<style scoped>\n",
       "    .dataframe tbody tr th:only-of-type {\n",
       "        vertical-align: middle;\n",
       "    }\n",
       "\n",
       "    .dataframe tbody tr th {\n",
       "        vertical-align: top;\n",
       "    }\n",
       "\n",
       "    .dataframe thead th {\n",
       "        text-align: right;\n",
       "    }\n",
       "</style>\n",
       "<table border=\"1\" class=\"dataframe\">\n",
       "  <thead>\n",
       "    <tr style=\"text-align: right;\">\n",
       "      <th></th>\n",
       "      <th>count</th>\n",
       "      <th>mean</th>\n",
       "      <th>std</th>\n",
       "      <th>min</th>\n",
       "      <th>25%</th>\n",
       "      <th>50%</th>\n",
       "      <th>75%</th>\n",
       "      <th>max</th>\n",
       "    </tr>\n",
       "  </thead>\n",
       "  <tbody>\n",
       "    <tr>\n",
       "      <th>retweet_count</th>\n",
       "      <td>3946.0</td>\n",
       "      <td>5839.465281</td>\n",
       "      <td>6156.818896</td>\n",
       "      <td>61.0</td>\n",
       "      <td>2013.25</td>\n",
       "      <td>4162.5</td>\n",
       "      <td>7807.25</td>\n",
       "      <td>168765.0</td>\n",
       "    </tr>\n",
       "    <tr>\n",
       "      <th>favorite_count</th>\n",
       "      <td>3946.0</td>\n",
       "      <td>15666.982767</td>\n",
       "      <td>14650.408743</td>\n",
       "      <td>167.0</td>\n",
       "      <td>5350.00</td>\n",
       "      <td>11981.5</td>\n",
       "      <td>21527.00</td>\n",
       "      <td>297281.0</td>\n",
       "    </tr>\n",
       "  </tbody>\n",
       "</table>\n",
       "</div>"
      ],
      "text/plain": [
       "                 count          mean           std    min      25%      50%  \\\n",
       "retweet_count   3946.0   5839.465281   6156.818896   61.0  2013.25   4162.5   \n",
       "favorite_count  3946.0  15666.982767  14650.408743  167.0  5350.00  11981.5   \n",
       "\n",
       "                     75%       max  \n",
       "retweet_count    7807.25  168765.0  \n",
       "favorite_count  21527.00  297281.0  "
      ]
     },
     "execution_count": 35,
     "metadata": {},
     "output_type": "execute_result"
    }
   ],
   "source": [
    "df.describe().T"
   ]
  },
  {
   "cell_type": "code",
   "execution_count": 36,
   "metadata": {},
   "outputs": [
    {
     "data": {
      "text/html": [
       "<div>\n",
       "<style scoped>\n",
       "    .dataframe tbody tr th:only-of-type {\n",
       "        vertical-align: middle;\n",
       "    }\n",
       "\n",
       "    .dataframe tbody tr th {\n",
       "        vertical-align: top;\n",
       "    }\n",
       "\n",
       "    .dataframe thead th {\n",
       "        text-align: right;\n",
       "    }\n",
       "</style>\n",
       "<table border=\"1\" class=\"dataframe\">\n",
       "  <thead>\n",
       "    <tr style=\"text-align: right;\">\n",
       "      <th></th>\n",
       "      <th>source</th>\n",
       "      <th>text</th>\n",
       "      <th>created_at</th>\n",
       "      <th>retweet_count</th>\n",
       "      <th>favorite_count</th>\n",
       "    </tr>\n",
       "  </thead>\n",
       "  <tbody>\n",
       "    <tr>\n",
       "      <th>12350</th>\n",
       "      <td>Twitter for iPhone</td>\n",
       "      <td>Despite my great respect for King Abdullah II,...</td>\n",
       "      <td>2015-12-08 19:16:23+00:00</td>\n",
       "      <td>1940</td>\n",
       "      <td>4408</td>\n",
       "    </tr>\n",
       "    <tr>\n",
       "      <th>17293</th>\n",
       "      <td>Twitter for iPhone</td>\n",
       "      <td>Thank you Delaware! #Trump2016 \\n#MakeAmericaG...</td>\n",
       "      <td>2016-04-23 14:30:58+00:00</td>\n",
       "      <td>3311</td>\n",
       "      <td>9189</td>\n",
       "    </tr>\n",
       "    <tr>\n",
       "      <th>18022</th>\n",
       "      <td>Twitter for Android</td>\n",
       "      <td>A very big thank you to Bill Donohue, head of ...</td>\n",
       "      <td>2016-02-13 11:43:32+00:00</td>\n",
       "      <td>1362</td>\n",
       "      <td>4232</td>\n",
       "    </tr>\n",
       "    <tr>\n",
       "      <th>17639</th>\n",
       "      <td>Twitter for Android</td>\n",
       "      <td>Bernie Sanders is lying when he says his disru...</td>\n",
       "      <td>2016-03-13 06:48:44+00:00</td>\n",
       "      <td>13754</td>\n",
       "      <td>34539</td>\n",
       "    </tr>\n",
       "    <tr>\n",
       "      <th>17080</th>\n",
       "      <td>Twitter for Android</td>\n",
       "      <td>I gave a woman named Barbara Res a top N.Y. co...</td>\n",
       "      <td>2016-05-16 22:46:35+00:00</td>\n",
       "      <td>3979</td>\n",
       "      <td>12880</td>\n",
       "    </tr>\n",
       "    <tr>\n",
       "      <th>15867</th>\n",
       "      <td>Twitter for iPhone</td>\n",
       "      <td>'How Trump won over a bar full of undecideds a...</td>\n",
       "      <td>2016-09-27 07:55:31+00:00</td>\n",
       "      <td>8404</td>\n",
       "      <td>18666</td>\n",
       "    </tr>\n",
       "    <tr>\n",
       "      <th>18142</th>\n",
       "      <td>Twitter for Android</td>\n",
       "      <td>Great job on @donlemon tonight @kayleighmcenan...</td>\n",
       "      <td>2016-02-03 00:12:23+00:00</td>\n",
       "      <td>1647</td>\n",
       "      <td>5286</td>\n",
       "    </tr>\n",
       "    <tr>\n",
       "      <th>18257</th>\n",
       "      <td>Twitter for iPhone</td>\n",
       "      <td>Love making correct predictions. National Revi...</td>\n",
       "      <td>2016-01-23 20:39:28+00:00</td>\n",
       "      <td>1718</td>\n",
       "      <td>4292</td>\n",
       "    </tr>\n",
       "    <tr>\n",
       "      <th>15514</th>\n",
       "      <td>Twitter for iPhone</td>\n",
       "      <td>If elected POTUS - I will stop RADICAL ISLAMIC...</td>\n",
       "      <td>2016-10-20 10:52:38+00:00</td>\n",
       "      <td>16317</td>\n",
       "      <td>38250</td>\n",
       "    </tr>\n",
       "    <tr>\n",
       "      <th>17045</th>\n",
       "      <td>Twitter for Android</td>\n",
       "      <td>I said that Crooked Hillary Clinton is \"not qu...</td>\n",
       "      <td>2016-05-20 04:40:37+00:00</td>\n",
       "      <td>5476</td>\n",
       "      <td>17109</td>\n",
       "    </tr>\n",
       "  </tbody>\n",
       "</table>\n",
       "</div>"
      ],
      "text/plain": [
       "                    source                                               text  \\\n",
       "12350   Twitter for iPhone  Despite my great respect for King Abdullah II,...   \n",
       "17293   Twitter for iPhone  Thank you Delaware! #Trump2016 \\n#MakeAmericaG...   \n",
       "18022  Twitter for Android  A very big thank you to Bill Donohue, head of ...   \n",
       "17639  Twitter for Android  Bernie Sanders is lying when he says his disru...   \n",
       "17080  Twitter for Android  I gave a woman named Barbara Res a top N.Y. co...   \n",
       "15867   Twitter for iPhone  'How Trump won over a bar full of undecideds a...   \n",
       "18142  Twitter for Android  Great job on @donlemon tonight @kayleighmcenan...   \n",
       "18257   Twitter for iPhone  Love making correct predictions. National Revi...   \n",
       "15514   Twitter for iPhone  If elected POTUS - I will stop RADICAL ISLAMIC...   \n",
       "17045  Twitter for Android  I said that Crooked Hillary Clinton is \"not qu...   \n",
       "\n",
       "                     created_at  retweet_count  favorite_count  \n",
       "12350 2015-12-08 19:16:23+00:00           1940            4408  \n",
       "17293 2016-04-23 14:30:58+00:00           3311            9189  \n",
       "18022 2016-02-13 11:43:32+00:00           1362            4232  \n",
       "17639 2016-03-13 06:48:44+00:00          13754           34539  \n",
       "17080 2016-05-16 22:46:35+00:00           3979           12880  \n",
       "15867 2016-09-27 07:55:31+00:00           8404           18666  \n",
       "18142 2016-02-03 00:12:23+00:00           1647            5286  \n",
       "18257 2016-01-23 20:39:28+00:00           1718            4292  \n",
       "15514 2016-10-20 10:52:38+00:00          16317           38250  \n",
       "17045 2016-05-20 04:40:37+00:00           5476           17109  "
      ]
     },
     "execution_count": 36,
     "metadata": {},
     "output_type": "execute_result"
    }
   ],
   "source": [
    "df.sample(10)"
   ]
  },
  {
   "cell_type": "code",
   "execution_count": 37,
   "metadata": {},
   "outputs": [
    {
     "data": {
      "text/plain": [
       "source\n",
       "Twitter for iPhone     2099\n",
       "Twitter for Android    1847\n",
       "Name: count, dtype: int64"
      ]
     },
     "execution_count": 37,
     "metadata": {},
     "output_type": "execute_result"
    }
   ],
   "source": [
    "df.source.value_counts()"
   ]
  },
  {
   "cell_type": "code",
   "execution_count": 38,
   "metadata": {},
   "outputs": [],
   "source": [
    "df = df[(df.source == 'Twitter for iPhone') | (df.source == 'Twitter for Android')].copy()"
   ]
  },
  {
   "cell_type": "code",
   "execution_count": 39,
   "metadata": {},
   "outputs": [
    {
     "data": {
      "image/png": "[encoded data removed]",
      "text/plain": [
       "<Figure size 640x480 with 4 Axes>"
      ]
     },
     "metadata": {},
     "output_type": "display_data"
    }
   ],
   "source": [
    "df.hist()\n",
    "plt.show()"
   ]
  },
  {
   "cell_type": "code",
   "execution_count": 40,
   "metadata": {},
   "outputs": [
    {
     "name": "stderr",
     "output_type": "stream",
     "text": [
      "/tmp/ipykernel_7678/980720819.py:3: FutureWarning: The default of observed=False is deprecated and will be changed to True in a future version of pandas. Pass observed=False to retain current behavior or observed=True to adopt the future default and silence this warning.\n",
      "  .groupby(['source','hour'])\n",
      "/tmp/ipykernel_7678/980720819.py:5: FutureWarning: The default of observed=False is deprecated and will be changed to True in a future version of pandas. Pass observed=False to retain current behavior or observed=True to adopt the future default and silence this warning.\n",
      "  .assign(rate=lambda df: df['count']/df.groupby('source')['count'].sum())\n",
      "/workspaces/NLP_Task/.venv/lib/python3.10/site-packages/seaborn/_oldcore.py:1498: FutureWarning: is_categorical_dtype is deprecated and will be removed in a future version. Use isinstance(dtype, CategoricalDtype) instead\n",
      "  if pd.api.types.is_categorical_dtype(vector):\n",
      "/workspaces/NLP_Task/.venv/lib/python3.10/site-packages/seaborn/_oldcore.py:1498: FutureWarning: is_categorical_dtype is deprecated and will be removed in a future version. Use isinstance(dtype, CategoricalDtype) instead\n",
      "  if pd.api.types.is_categorical_dtype(vector):\n",
      "/workspaces/NLP_Task/.venv/lib/python3.10/site-packages/seaborn/_oldcore.py:1498: FutureWarning: is_categorical_dtype is deprecated and will be removed in a future version. Use isinstance(dtype, CategoricalDtype) instead\n",
      "  if pd.api.types.is_categorical_dtype(vector):\n",
      "/workspaces/NLP_Task/.venv/lib/python3.10/site-packages/seaborn/_oldcore.py:1498: FutureWarning: is_categorical_dtype is deprecated and will be removed in a future version. Use isinstance(dtype, CategoricalDtype) instead\n",
      "  if pd.api.types.is_categorical_dtype(vector):\n",
      "/workspaces/NLP_Task/.venv/lib/python3.10/site-packages/seaborn/_oldcore.py:1498: FutureWarning: is_categorical_dtype is deprecated and will be removed in a future version. Use isinstance(dtype, CategoricalDtype) instead\n",
      "  if pd.api.types.is_categorical_dtype(vector):\n",
      "/workspaces/NLP_Task/.venv/lib/python3.10/site-packages/seaborn/_oldcore.py:1119: FutureWarning: use_inf_as_na option is deprecated and will be removed in a future version. Convert inf values to NaN before operating instead.\n",
      "  with pd.option_context('mode.use_inf_as_na', True):\n",
      "/workspaces/NLP_Task/.venv/lib/python3.10/site-packages/seaborn/_oldcore.py:1119: FutureWarning: use_inf_as_na option is deprecated and will be removed in a future version. Convert inf values to NaN before operating instead.\n",
      "  with pd.option_context('mode.use_inf_as_na', True):\n",
      "/workspaces/NLP_Task/.venv/lib/python3.10/site-packages/seaborn/_oldcore.py:1057: FutureWarning: The default of observed=False is deprecated and will be changed to True in a future version of pandas. Pass observed=False to retain current behavior or observed=True to adopt the future default and silence this warning.\n",
      "  grouped_data = data.groupby(\n"
     ]
    },
    {
     "data": {
      "image/png": "[encoded data removed]",
      "text/plain": [
       "<Figure size 640x480 with 1 Axes>"
      ]
     },
     "metadata": {},
     "output_type": "display_data"
    }
   ],
   "source": [
    "df_plot = (df\n",
    "           .assign(hour=df.created_at.dt.hour)\n",
    "           .groupby(['source','hour'])\n",
    "           .agg(count=('source','count'))\n",
    "           .assign(rate=lambda df: df['count']/df.groupby('source')['count'].sum())\n",
    "           .reset_index()\n",
    ")\n",
    "\n",
    "sns.lineplot(data=df_plot, x='hour', y='rate', hue='source', markers=True, style='source')\n",
    "plt.show()"
   ]
  },
  {
   "cell_type": "code",
   "execution_count": 41,
   "metadata": {},
   "outputs": [
    {
     "data": {
      "text/html": [
       "<div>\n",
       "<style scoped>\n",
       "    .dataframe tbody tr th:only-of-type {\n",
       "        vertical-align: middle;\n",
       "    }\n",
       "\n",
       "    .dataframe tbody tr th {\n",
       "        vertical-align: top;\n",
       "    }\n",
       "\n",
       "    .dataframe thead th {\n",
       "        text-align: right;\n",
       "    }\n",
       "</style>\n",
       "<table border=\"1\" class=\"dataframe\">\n",
       "  <thead>\n",
       "    <tr style=\"text-align: right;\">\n",
       "      <th></th>\n",
       "      <th>text</th>\n",
       "      <th>retweet_count</th>\n",
       "    </tr>\n",
       "  </thead>\n",
       "  <tbody>\n",
       "    <tr>\n",
       "      <th>16875</th>\n",
       "      <td>How long did it take your staff of 823 people ...</td>\n",
       "      <td>168765</td>\n",
       "    </tr>\n",
       "    <tr>\n",
       "      <th>17183</th>\n",
       "      <td>Happy #CincoDeMayo! The best taco bowls are ma...</td>\n",
       "      <td>85465</td>\n",
       "    </tr>\n",
       "    <tr>\n",
       "      <th>15333</th>\n",
       "      <td>MAKE AMERICA GREAT AGAIN!</td>\n",
       "      <td>59098</td>\n",
       "    </tr>\n",
       "    <tr>\n",
       "      <th>15758</th>\n",
       "      <td>Here is my statement. https://t.co/WAZiGoQqMQ</td>\n",
       "      <td>51891</td>\n",
       "    </tr>\n",
       "    <tr>\n",
       "      <th>16548</th>\n",
       "      <td>Such a great honor to be the Republican Nomine...</td>\n",
       "      <td>41616</td>\n",
       "    </tr>\n",
       "    <tr>\n",
       "      <th>15340</th>\n",
       "      <td>If Obama worked as hard on straightening out o...</td>\n",
       "      <td>41479</td>\n",
       "    </tr>\n",
       "    <tr>\n",
       "      <th>15827</th>\n",
       "      <td>For those few people knocking me for tweeting ...</td>\n",
       "      <td>40850</td>\n",
       "    </tr>\n",
       "    <tr>\n",
       "      <th>15756</th>\n",
       "      <td>The media and establishment want me out of the...</td>\n",
       "      <td>40772</td>\n",
       "    </tr>\n",
       "    <tr>\n",
       "      <th>16583</th>\n",
       "      <td>I am pleased to announce that I have chosen Go...</td>\n",
       "      <td>38782</td>\n",
       "    </tr>\n",
       "    <tr>\n",
       "      <th>16848</th>\n",
       "      <td>Is President Obama going to finally mention th...</td>\n",
       "      <td>38456</td>\n",
       "    </tr>\n",
       "  </tbody>\n",
       "</table>\n",
       "</div>"
      ],
      "text/plain": [
       "                                                    text  retweet_count\n",
       "16875  How long did it take your staff of 823 people ...         168765\n",
       "17183  Happy #CincoDeMayo! The best taco bowls are ma...          85465\n",
       "15333                          MAKE AMERICA GREAT AGAIN!          59098\n",
       "15758      Here is my statement. https://t.co/WAZiGoQqMQ          51891\n",
       "16548  Such a great honor to be the Republican Nomine...          41616\n",
       "15340  If Obama worked as hard on straightening out o...          41479\n",
       "15827  For those few people knocking me for tweeting ...          40850\n",
       "15756  The media and establishment want me out of the...          40772\n",
       "16583  I am pleased to announce that I have chosen Go...          38782\n",
       "16848  Is President Obama going to finally mention th...          38456"
      ]
     },
     "execution_count": 41,
     "metadata": {},
     "output_type": "execute_result"
    }
   ],
   "source": [
    "df.sort_values(by='retweet_count', ascending=False)[['text', 'retweet_count']][:10]"
   ]
  }
 ],
 "metadata": {
  "kernelspec": {
   "display_name": ".venv",
   "language": "python",
   "name": "python3"
  },
  "language_info": {
   "codemirror_mode": {
    "name": "ipython",
    "version": 3
   },
   "file_extension": ".py",
   "mimetype": "text/x-python",
   "name": "python",
   "nbconvert_exporter": "python",
   "pygments_lexer": "ipython3",
   "version": "3.10.8"
  },
  "orig_nbformat": 4
 },
 "nbformat": 4,
 "nbformat_minor": 2
}
